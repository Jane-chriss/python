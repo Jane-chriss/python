{
 "cells": [
  {
   "cell_type": "markdown",
   "metadata": {},
   "source": [
    "programa para ler 3 notas bimestrais de um aluno, e calcular a média e apresentar a mensagem aprovado se a média for maior ou igual a 7\n",
    "e reprovado se a média for menor que 7"
   ]
  },
  {
   "cell_type": "code",
   "execution_count": 20,
   "metadata": {},
   "outputs": [
    {
     "ename": "KeyboardInterrupt",
     "evalue": "Interrupted by user",
     "output_type": "error",
     "traceback": [
      "\u001b[1;31m---------------------------------------------------------------------------\u001b[0m",
      "\u001b[1;31mKeyboardInterrupt\u001b[0m                         Traceback (most recent call last)",
      "Cell \u001b[1;32mIn [20], line 1\u001b[0m\n\u001b[1;32m----> 1\u001b[0m nota1 \u001b[38;5;241m=\u001b[39m \u001b[38;5;28mfloat\u001b[39m(\u001b[38;5;28;43minput\u001b[39;49m\u001b[43m(\u001b[49m\u001b[38;5;124;43m'\u001b[39;49m\u001b[38;5;124;43mdigite a nota 1\u001b[39;49m\u001b[38;5;124;43m'\u001b[39;49m\u001b[43m)\u001b[49m)\n\u001b[0;32m      2\u001b[0m nota2 \u001b[38;5;241m=\u001b[39m \u001b[38;5;28mfloat\u001b[39m(\u001b[38;5;28minput\u001b[39m(\u001b[38;5;124m'\u001b[39m\u001b[38;5;124mdigite a nota 2\u001b[39m\u001b[38;5;124m'\u001b[39m))\n\u001b[0;32m      3\u001b[0m nota3 \u001b[38;5;241m=\u001b[39m \u001b[38;5;28mfloat\u001b[39m(\u001b[38;5;28minput\u001b[39m(\u001b[38;5;124m'\u001b[39m\u001b[38;5;124mdigite a nota 3\u001b[39m\u001b[38;5;124m'\u001b[39m))\n",
      "File \u001b[1;32m~\\AppData\\Roaming\\Python\\Python311\\site-packages\\ipykernel\\kernelbase.py:1177\u001b[0m, in \u001b[0;36mKernel.raw_input\u001b[1;34m(self, prompt)\u001b[0m\n\u001b[0;32m   1173\u001b[0m \u001b[38;5;28;01mif\u001b[39;00m \u001b[38;5;129;01mnot\u001b[39;00m \u001b[38;5;28mself\u001b[39m\u001b[38;5;241m.\u001b[39m_allow_stdin:\n\u001b[0;32m   1174\u001b[0m     \u001b[38;5;28;01mraise\u001b[39;00m StdinNotImplementedError(\n\u001b[0;32m   1175\u001b[0m         \u001b[38;5;124m\"\u001b[39m\u001b[38;5;124mraw_input was called, but this frontend does not support input requests.\u001b[39m\u001b[38;5;124m\"\u001b[39m\n\u001b[0;32m   1176\u001b[0m     )\n\u001b[1;32m-> 1177\u001b[0m \u001b[38;5;28;01mreturn\u001b[39;00m \u001b[38;5;28;43mself\u001b[39;49m\u001b[38;5;241;43m.\u001b[39;49m\u001b[43m_input_request\u001b[49m\u001b[43m(\u001b[49m\n\u001b[0;32m   1178\u001b[0m \u001b[43m    \u001b[49m\u001b[38;5;28;43mstr\u001b[39;49m\u001b[43m(\u001b[49m\u001b[43mprompt\u001b[49m\u001b[43m)\u001b[49m\u001b[43m,\u001b[49m\n\u001b[0;32m   1179\u001b[0m \u001b[43m    \u001b[49m\u001b[38;5;28;43mself\u001b[39;49m\u001b[38;5;241;43m.\u001b[39;49m\u001b[43m_parent_ident\u001b[49m\u001b[43m[\u001b[49m\u001b[38;5;124;43m\"\u001b[39;49m\u001b[38;5;124;43mshell\u001b[39;49m\u001b[38;5;124;43m\"\u001b[39;49m\u001b[43m]\u001b[49m\u001b[43m,\u001b[49m\n\u001b[0;32m   1180\u001b[0m \u001b[43m    \u001b[49m\u001b[38;5;28;43mself\u001b[39;49m\u001b[38;5;241;43m.\u001b[39;49m\u001b[43mget_parent\u001b[49m\u001b[43m(\u001b[49m\u001b[38;5;124;43m\"\u001b[39;49m\u001b[38;5;124;43mshell\u001b[39;49m\u001b[38;5;124;43m\"\u001b[39;49m\u001b[43m)\u001b[49m\u001b[43m,\u001b[49m\n\u001b[0;32m   1181\u001b[0m \u001b[43m    \u001b[49m\u001b[43mpassword\u001b[49m\u001b[38;5;241;43m=\u001b[39;49m\u001b[38;5;28;43;01mFalse\u001b[39;49;00m\u001b[43m,\u001b[49m\n\u001b[0;32m   1182\u001b[0m \u001b[43m\u001b[49m\u001b[43m)\u001b[49m\n",
      "File \u001b[1;32m~\\AppData\\Roaming\\Python\\Python311\\site-packages\\ipykernel\\kernelbase.py:1219\u001b[0m, in \u001b[0;36mKernel._input_request\u001b[1;34m(self, prompt, ident, parent, password)\u001b[0m\n\u001b[0;32m   1216\u001b[0m             \u001b[38;5;28;01mbreak\u001b[39;00m\n\u001b[0;32m   1217\u001b[0m \u001b[38;5;28;01mexcept\u001b[39;00m \u001b[38;5;167;01mKeyboardInterrupt\u001b[39;00m:\n\u001b[0;32m   1218\u001b[0m     \u001b[38;5;66;03m# re-raise KeyboardInterrupt, to truncate traceback\u001b[39;00m\n\u001b[1;32m-> 1219\u001b[0m     \u001b[38;5;28;01mraise\u001b[39;00m \u001b[38;5;167;01mKeyboardInterrupt\u001b[39;00m(\u001b[38;5;124m\"\u001b[39m\u001b[38;5;124mInterrupted by user\u001b[39m\u001b[38;5;124m\"\u001b[39m) \u001b[38;5;28;01mfrom\u001b[39;00m \u001b[38;5;28mNone\u001b[39m\n\u001b[0;32m   1220\u001b[0m \u001b[38;5;28;01mexcept\u001b[39;00m \u001b[38;5;167;01mException\u001b[39;00m:\n\u001b[0;32m   1221\u001b[0m     \u001b[38;5;28mself\u001b[39m\u001b[38;5;241m.\u001b[39mlog\u001b[38;5;241m.\u001b[39mwarning(\u001b[38;5;124m\"\u001b[39m\u001b[38;5;124mInvalid Message:\u001b[39m\u001b[38;5;124m\"\u001b[39m, exc_info\u001b[38;5;241m=\u001b[39m\u001b[38;5;28;01mTrue\u001b[39;00m)\n",
      "\u001b[1;31mKeyboardInterrupt\u001b[0m: Interrupted by user"
     ]
    }
   ],
   "source": [
    "nota1 = float(input('digite a nota 1'))\n",
    "nota2 = float(input('digite a nota 2'))\n",
    "nota3 = float(input('digite a nota 3'))\n",
    "\n",
    "media = (nota1+nota2+nota3)/3\n",
    "\n",
    "if media < 7:\n",
    "    print('reprovado')\n",
    "elif media >=7:\n",
    "    print('aprovado')\n",
    "else:\n",
    "    print('aprovado com distinção')\n",
    "    \n",
    "\n"
   ]
  },
  {
   "cell_type": "markdown",
   "metadata": {},
   "source": [
    "conversor de medidas, faça um programa que receba uma medida em cm e o usuario escolha a medidad de conveção\n",
    "o programa faz o calculo e exibe a medida convertida"
   ]
  },
  {
   "cell_type": "code",
   "execution_count": null,
   "metadata": {},
   "outputs": [
    {
     "name": "stdout",
     "output_type": "stream",
     "text": [
      "******************************Conversor de medidas******************************\n",
      "\n",
      " Escolha para qual unidade deseja converter\n",
      "1 - polegada\n",
      "2 - pé \n",
      "3 - jarda\n",
      "100.0000 centimetros correspondem a 39.3701 polegadas\n"
     ]
    }
   ],
   "source": [
    "from os import system\n",
    "system('cls')\n",
    "\n",
    "titulo = 'Conversor de medidas'\n",
    "print(titulo.center(80,'*'))\n",
    "\n",
    "medida = float(input ('digite a  em centimetro'))\n",
    "\n",
    "print('\\n Escolha para qual unidade deseja converter')\n",
    "print('1 - polegada\\n2 - pé \\n3 - jarda')\n",
    "\n",
    "menu = input('opção: ')\n",
    "\n",
    "valorpolegada = 2.54\n",
    "valorpes = 30.48\n",
    "valorjarda = 91,44\n",
    "\n",
    "if menu =='1':\n",
    "    polegadas = medida / valorpolegada\n",
    "    resultado = str(f'{medida:.4f} centimetros correspondem a {polegadas:.4f} polegadas')\n",
    "elif menu=='2':\n",
    "    pes = medida / valorpes\n",
    "    resultado = str(f'{medida:.4f} centimetros correspondem a {pes:.4f} pés')\n",
    "elif menu=='3':\n",
    "    jarda = medida / valorjarda\n",
    "    resultado = str(f'{medida:.4f} centimetros correspondem a {jarda:.4f} pés')\n",
    "else:\n",
    "    resultado = str(f'voce não digitou um valor valido')\n",
    "print(resultado)\n",
    "\n"
   ]
  },
  {
   "cell_type": "markdown",
   "metadata": {},
   "source": [
    "faça um programa que receba 3 numeros e faça que o programa mostre-o em ordem decrecente\n"
   ]
  },
  {
   "cell_type": "code",
   "execution_count": 26,
   "metadata": {},
   "outputs": [
    {
     "name": "stdout",
     "output_type": "stream",
     "text": [
      "************EXIBIR NUMEROS EM ORDEM DESCRECENTE*************\n",
      "565\n",
      "790\n",
      "370\n"
     ]
    }
   ],
   "source": [
    "from os import system\n",
    "import random\n",
    "system('cls')\n",
    "\n",
    "titulo = 'EXIBIR NUMEROS EM ORDEM DESCRECENTE'\n",
    "print(titulo.center(60,'*'))\n",
    "\n",
    "num1 = random.randint (0,1000)\n",
    "num2 = random.randint (0,1000)\n",
    "num3 = random.randint (0,1000)\n",
    "\n",
    "if num1>num2 and num1>num3:\n",
    "    maior = num1\n",
    "elif num2>num3:\n",
    "    maior = num2\n",
    "else:\n",
    "    maior = num3\n",
    "\n",
    "if num1<num2 and num1<num3:\n",
    "    menor = num1\n",
    "elif num2<num3:\n",
    "    menor = num2\n",
    "else:\n",
    "    menor = num3\n",
    "\n",
    "if (num1<num2 and num1>num3) or (num1>num2 and num1>num3):\n",
    "    media = num1\n",
    "elif (num2<num1 and num2>num3) or (num2>num1 and num2>num3):\n",
    "    media = num2\n",
    "else:\n",
    "    meio = num3\n",
    "\n",
    "print(f'{maior}\\n{meio}\\n{menor}')\n",
    "\n"
   ]
  }
 ],
 "metadata": {
  "interpreter": {
   "hash": "4155ffb4a9b53e510e31856a1807a7036b65197b0bd6cfb94a8b3a59ce632e19"
  },
  "kernelspec": {
   "display_name": "Python 3.10.8 64-bit (windows store)",
   "language": "python",
   "name": "python3"
  },
  "language_info": {
   "codemirror_mode": {
    "name": "ipython",
    "version": 3
   },
   "file_extension": ".py",
   "mimetype": "text/x-python",
   "name": "python",
   "nbconvert_exporter": "python",
   "pygments_lexer": "ipython3",
   "version": "3.11.0"
  },
  "orig_nbformat": 4
 },
 "nbformat": 4,
 "nbformat_minor": 2
}
