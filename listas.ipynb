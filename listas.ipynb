{
 "cells": [
  {
   "cell_type": "markdown",
   "metadata": {},
   "source": [
    "listas"
   ]
  },
  {
   "cell_type": "code",
   "execution_count": 2,
   "metadata": {},
   "outputs": [
    {
     "name": "stdout",
     "output_type": "stream",
     "text": [
      "['jose', 230, 'maria']\n"
     ]
    }
   ],
   "source": [
    "lista1 = ['jose', 230, 'maria']\n",
    "print (lista1)\n"
   ]
  },
  {
   "cell_type": "markdown",
   "metadata": {},
   "source": [
    "acessando um elemento da lista, lembrado que ela inicia do 0"
   ]
  },
  {
   "cell_type": "code",
   "execution_count": 5,
   "metadata": {},
   "outputs": [
    {
     "name": "stdout",
     "output_type": "stream",
     "text": [
      "maria\n"
     ]
    }
   ],
   "source": [
    "lista1 = ['jose', 230, 'maria']\n",
    "print (lista1[2])\n"
   ]
  },
  {
   "cell_type": "markdown",
   "metadata": {},
   "source": [
    "descobrindo o indice de um detrminado elemento"
   ]
  },
  {
   "cell_type": "code",
   "execution_count": 8,
   "metadata": {},
   "outputs": [
    {
     "name": "stdout",
     "output_type": "stream",
     "text": [
      "0\n"
     ]
    }
   ],
   "source": [
    "lista1 = ['jose', 230, 'maria']\n",
    "print (lista1.index('jose'))\n"
   ]
  },
  {
   "cell_type": "markdown",
   "metadata": {},
   "source": [
    "descobrindo total de uma lista"
   ]
  },
  {
   "cell_type": "code",
   "execution_count": 9,
   "metadata": {},
   "outputs": [
    {
     "name": "stdout",
     "output_type": "stream",
     "text": [
      "3\n"
     ]
    }
   ],
   "source": [
    "lista1 = ['jose', 230, 'maria']\n",
    "print (len(lista1))"
   ]
  },
  {
   "cell_type": "code",
   "execution_count": 11,
   "metadata": {},
   "outputs": [
    {
     "name": "stdout",
     "output_type": "stream",
     "text": [
      "['jose', 230, 'maria', 'carlos', 23, 'marcos']\n"
     ]
    }
   ],
   "source": [
    "lista1 = ['jose', 230, 'maria']\n",
    "lista1.append('carlos')\n",
    "lista1.append(23)\n",
    "lista1.append('marcos')\n",
    "#insere elemento no final da lista\n",
    "print (lista1)"
   ]
  },
  {
   "cell_type": "code",
   "execution_count": 12,
   "metadata": {},
   "outputs": [
    {
     "name": "stdout",
     "output_type": "stream",
     "text": [
      "['jose', 230, 'Adolfo']\n"
     ]
    }
   ],
   "source": [
    "lista1 = ['jose', 230, 'maria']\n",
    "lista1[2] = 'Adolfo'\n",
    "print (lista1)\n",
    "#subescreve o valor do indice"
   ]
  },
  {
   "cell_type": "code",
   "execution_count": 13,
   "metadata": {},
   "outputs": [
    {
     "name": "stdout",
     "output_type": "stream",
     "text": [
      "['jose', 230, 'Adolfo', 'maria']\n"
     ]
    }
   ],
   "source": [
    "lista1 = ['jose', 230, 'maria']\n",
    "lista1.insert(2,'Adolfo')\n",
    "print (lista1)\n",
    "#add o valor do indice"
   ]
  },
  {
   "cell_type": "markdown",
   "metadata": {},
   "source": [
    "removendo exemplos de um lista"
   ]
  },
  {
   "cell_type": "code",
   "execution_count": 22,
   "metadata": {},
   "outputs": [
    {
     "name": "stdout",
     "output_type": "stream",
     "text": [
      "['jose', 'maria']\n"
     ]
    }
   ],
   "source": [
    "lista1 = ['jose', 230, 'maria']\n",
    "lista1.pop(1) #remove o elemento especifico da lista, por meio do indice\n",
    "print(lista1)\n",
    "\n"
   ]
  },
  {
   "cell_type": "code",
   "execution_count": 23,
   "metadata": {},
   "outputs": [
    {
     "name": "stdout",
     "output_type": "stream",
     "text": [
      "['jose', 'maria']\n"
     ]
    }
   ],
   "source": [
    "lista1 = ['jose', 230, 'maria']\n",
    "lista1.remove(230) #remove o valor especifico\n",
    "print(lista1)"
   ]
  },
  {
   "cell_type": "code",
   "execution_count": 25,
   "metadata": {},
   "outputs": [
    {
     "name": "stdout",
     "output_type": "stream",
     "text": [
      "[0, 1, 3, 4, 5, 7, 9]\n",
      "[9, 7, 5, 4, 3, 1, 0]\n"
     ]
    }
   ],
   "source": [
    "x = 1\n",
    "num = [9,4,5,7,1,3,0]\n",
    "num.reverse()\n",
    "#coloca em ordem inversa a lista\n",
    "num.sort() #coloca em ordem crescente\n",
    "print(num)\n",
    "\n",
    "num.sort(reverse=True)  #reverte a ordem (contraria/decrescente)\n",
    "print(num)\n"
   ]
  },
  {
   "cell_type": "markdown",
   "metadata": {},
   "source": [
    "concatenar e unir listar"
   ]
  },
  {
   "cell_type": "code",
   "execution_count": 1,
   "metadata": {},
   "outputs": [
    {
     "name": "stdout",
     "output_type": "stream",
     "text": [
      "['banana', 'maça', 'morango', 'laranja', 'limão', 'uva']\n",
      "['banana', 'maça', 'morango', 'laranja', 'limão', 'uva']\n"
     ]
    }
   ],
   "source": [
    "frutas01 = ['banana', 'maça', 'morango']\n",
    "frutas02 = ['laranja','limão', 'uva']\n",
    "\n",
    "todasfrutas = frutas01 + frutas02\n",
    "print(todasfrutas)\n",
    "\n",
    "frutas01.extend(frutas02)\n",
    "frutas02.append('amora')\n",
    "print(frutas01)\n",
    "\n",
    "\n"
   ]
  },
  {
   "cell_type": "markdown",
   "metadata": {},
   "source": [
    "estrutura de repetição usando FOR"
   ]
  },
  {
   "cell_type": "code",
   "execution_count": 2,
   "metadata": {},
   "outputs": [
    {
     "name": "stdout",
     "output_type": "stream",
     "text": [
      "arroz\n",
      "feijão\n",
      "macarrão\n",
      "carne\n",
      "queijo\n"
     ]
    }
   ],
   "source": [
    "compras = ['arroz','feijão', 'macarrão', 'carne', 'queijo']\n",
    "\n",
    "for item in compras:\n",
    "    print(item)\n"
   ]
  },
  {
   "cell_type": "code",
   "execution_count": 3,
   "metadata": {},
   "outputs": [
    {
     "name": "stdout",
     "output_type": "stream",
     "text": [
      "0\n",
      "1\n",
      "2\n",
      "3\n",
      "4\n",
      "5\n",
      "6\n",
      "7\n",
      "8\n",
      "9\n"
     ]
    }
   ],
   "source": [
    "for i in range (0,10):\n",
    "    print(i)\n",
    "    "
   ]
  },
  {
   "cell_type": "code",
   "execution_count": 6,
   "metadata": {},
   "outputs": [
    {
     "name": "stdout",
     "output_type": "stream",
     "text": [
      "5 x 0 = 0\n",
      "5 x 1 = 5\n",
      "5 x 2 = 10\n",
      "5 x 3 = 15\n",
      "5 x 4 = 20\n",
      "5 x 5 = 25\n",
      "5 x 6 = 30\n",
      "5 x 7 = 35\n",
      "5 x 8 = 40\n",
      "5 x 9 = 45\n",
      "5 x 10 = 50\n"
     ]
    }
   ],
   "source": [
    "multiplicador = int(input('informe o valor da tabuada'))\n",
    "for i in range (0,11):\n",
    "    print(f'{multiplicador} x {i} = {multiplicador*i}')"
   ]
  },
  {
   "cell_type": "code",
   "execution_count": 7,
   "metadata": {},
   "outputs": [
    {
     "name": "stdout",
     "output_type": "stream",
     "text": [
      "0\n",
      "2\n",
      "4\n",
      "6\n",
      "8\n",
      "10\n",
      "12\n",
      "14\n",
      "16\n",
      "18\n",
      "20\n",
      "22\n",
      "24\n",
      "26\n",
      "28\n",
      "30\n",
      "32\n",
      "34\n",
      "36\n",
      "38\n",
      "40\n",
      "42\n",
      "44\n",
      "46\n",
      "48\n",
      "50\n",
      "52\n",
      "54\n",
      "56\n",
      "58\n",
      "60\n",
      "62\n",
      "64\n",
      "66\n",
      "68\n",
      "70\n",
      "72\n",
      "74\n",
      "76\n",
      "78\n",
      "80\n",
      "82\n",
      "84\n",
      "86\n",
      "88\n",
      "90\n",
      "92\n",
      "94\n",
      "96\n",
      "98\n",
      "100\n"
     ]
    }
   ],
   "source": [
    "for i in range(0, 101, 2): #2 é referente a de quantos em quantos ira pular\n",
    "    print(i)\n"
   ]
  },
  {
   "cell_type": "code",
   "execution_count": 8,
   "metadata": {},
   "outputs": [
    {
     "name": "stdout",
     "output_type": "stream",
     "text": [
      "10\n",
      "9\n",
      "8\n",
      "7\n",
      "6\n",
      "5\n",
      "4\n",
      "3\n",
      "2\n",
      "1\n"
     ]
    }
   ],
   "source": [
    "for i in range(10,0,-1):\n",
    "    print(i)"
   ]
  },
  {
   "cell_type": "code",
   "execution_count": 4,
   "metadata": {},
   "outputs": [
    {
     "name": "stdout",
     "output_type": "stream",
     "text": [
      "9\n",
      "11\n",
      "14\n",
      "20\n",
      "25\n",
      "33\n",
      "37\n",
      "44\n",
      "45\n",
      "45\n"
     ]
    }
   ],
   "source": [
    "num = [9,2,3,6,5,8,4,7,1,0]\n",
    "soma = 0\n",
    "for i in num:\n",
    "    soma += i\n",
    "    print (soma)"
   ]
  }
 ],
 "metadata": {
  "interpreter": {
   "hash": "4155ffb4a9b53e510e31856a1807a7036b65197b0bd6cfb94a8b3a59ce632e19"
  },
  "kernelspec": {
   "display_name": "Python 3.10.8 64-bit (windows store)",
   "language": "python",
   "name": "python3"
  },
  "language_info": {
   "codemirror_mode": {
    "name": "ipython",
    "version": 3
   },
   "file_extension": ".py",
   "mimetype": "text/x-python",
   "name": "python",
   "nbconvert_exporter": "python",
   "pygments_lexer": "ipython3",
   "version": "3.11.0"
  },
  "orig_nbformat": 4
 },
 "nbformat": 4,
 "nbformat_minor": 2
}
