{
 "cells": [
  {
   "cell_type": "markdown",
   "metadata": {},
   "source": [
    "tupla"
   ]
  },
  {
   "cell_type": "code",
   "execution_count": 25,
   "metadata": {},
   "outputs": [
    {
     "name": "stdout",
     "output_type": "stream",
     "text": [
      "('zero', 'um', 'dois', 'tres', 'quatro', 'cinco', 'seis', 'sete', 'oito', 'nove')\n",
      "zero\n",
      "2\n",
      "1\n",
      "10\n",
      "oitenta e cinco\n"
     ]
    }
   ],
   "source": [
    "numeros = ('zero', 'um', 'dois', 'tres', 'quatro', 'cinco', 'seis', 'sete', 'oito', 'nove')\n",
    "print(numeros)\n",
    "print(numeros[0])\n",
    "print(numeros.index('dois'))\n",
    "print(numeros.count('dois'))\n",
    "print(len(numeros))\n",
    "\n",
    "dez = ('dez', 'onze', 'doze', 'treze', 'quatorze', 'quinze', 'dezesseia', 'dezessete', 'dezoito', 'dezenove')\n",
    "dezenas = ('','','vinte', 'trinta', 'quarenta', 'cinquenta', 'sessenta', 'setenta', 'oitenta', 'noventa')\n",
    "\n",
    "indice = int(input('digite um numero entre 0 e 9: '))\n",
    "if indice<10:\n",
    "    extenso = numeros[indice]\n",
    "elif indice <20:\n",
    "    extenso = dez[indice -10]\n",
    "elif indice<=99:\n",
    "    dezena = int(indice/10)\n",
    "    numeral = indice %10\n",
    "    if numeral>0:\n",
    "        extenso = dezenas[dezena] + ' e ' + numeros[numeral]\n",
    "    else:\n",
    "        extenso = dezenas[dezena]\n",
    "\n",
    "print(extenso)\n",
    "\n"
   ]
  }
 ],
 "metadata": {
  "interpreter": {
   "hash": "68255c82b399ebf7696a409cdddf5a450ca9dc393a3e7e16737daf329be37a0b"
  },
  "kernelspec": {
   "display_name": "Python 3.11.0 64-bit",
   "language": "python",
   "name": "python3"
  },
  "language_info": {
   "codemirror_mode": {
    "name": "ipython",
    "version": 3
   },
   "file_extension": ".py",
   "mimetype": "text/x-python",
   "name": "python",
   "nbconvert_exporter": "python",
   "pygments_lexer": "ipython3",
   "version": "3.11.0"
  },
  "orig_nbformat": 4
 },
 "nbformat": 4,
 "nbformat_minor": 2
}
