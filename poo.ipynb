{
 "cells": [
  {
   "cell_type": "markdown",
   "metadata": {},
   "source": [
    "programa orietado a objeto (classes)"
   ]
  },
  {
   "cell_type": "code",
   "execution_count": 1,
   "metadata": {},
   "outputs": [
    {
     "ename": "NameError",
     "evalue": "name 'atributos' is not defined",
     "output_type": "error",
     "traceback": [
      "\u001b[1;31m---------------------------------------------------------------------------\u001b[0m",
      "\u001b[1;31mNameError\u001b[0m                                 Traceback (most recent call last)",
      "Cell \u001b[1;32mIn [1], line 1\u001b[0m\n\u001b[1;32m----> 1\u001b[0m \u001b[38;5;28;43;01mclass\u001b[39;49;00m\u001b[43m \u001b[49m\u001b[38;5;21;43;01mNome\u001b[39;49;00m\u001b[43m:\u001b[49m\n\u001b[0;32m      2\u001b[0m \u001b[43m    \u001b[49m\u001b[43matributos\u001b[49m\u001b[43m \u001b[49m\n\u001b[0;32m      3\u001b[0m \u001b[43m    \u001b[49m\u001b[43mmetodos\u001b[49m\u001b[43m \u001b[49m\n",
      "Cell \u001b[1;32mIn [1], line 2\u001b[0m, in \u001b[0;36mNome\u001b[1;34m()\u001b[0m\n\u001b[0;32m      1\u001b[0m \u001b[38;5;28;01mclass\u001b[39;00m \u001b[38;5;21;01mNome\u001b[39;00m:\n\u001b[1;32m----> 2\u001b[0m     \u001b[43matributos\u001b[49m \n\u001b[0;32m      3\u001b[0m     metodos \n\u001b[0;32m      4\u001b[0m     (objetos)\n",
      "\u001b[1;31mNameError\u001b[0m: name 'atributos' is not defined"
     ]
    }
   ],
   "source": [
    "class Nome:\n",
    "    atributos \n",
    "    metodos \n",
    "    (objetos)\n",
    "    #todo nome de class começa com letra maiuscula"
   ]
  },
  {
   "cell_type": "code",
   "execution_count": null,
   "metadata": {},
   "outputs": [],
   "source": [
    "class Pessoa:\n",
    "    pass\n",
    "#pass comando que diz para ignorar essa linha e ir para próxima"
   ]
  },
  {
   "cell_type": "code",
   "execution_count": null,
   "metadata": {},
   "outputs": [
    {
     "name": "stdout",
     "output_type": "stream",
     "text": [
      "Jane 36\n"
     ]
    }
   ],
   "source": [
    "class Pessoa:\n",
    "    pass\n",
    "\n",
    "pessoa1 = Pessoa()\n",
    "#variavel pessoa instancia (controi) a class pessoa, incorporando sua estrutura\n",
    "\n",
    "pessoa1.nome = 'Jane'\n",
    "pessoa1.idade = 36\n",
    "\n",
    "print (pessoa1.nome, pessoa1.idade)\n",
    "\n",
    "\n"
   ]
  },
  {
   "cell_type": "code",
   "execution_count": null,
   "metadata": {},
   "outputs": [
    {
     "name": "stdout",
     "output_type": "stream",
     "text": [
      "ação 1 semndo executada\n"
     ]
    }
   ],
   "source": [
    "class Pessoa:\n",
    "    def acao1(self):\n",
    "        #cria um metodo de classe acao1() que realiza uma ação e retorna algum dado ou valor dentro da class via self ==> referencia a propria classe\n",
    "        print('ação 1 semndo executada')\n",
    "    \n",
    "pessoa1 = Pessoa ()\n",
    "pessoa1.acao1 ()\n",
    "\n"
   ]
  },
  {
   "cell_type": "code",
   "execution_count": null,
   "metadata": {},
   "outputs": [
    {
     "name": "stdout",
     "output_type": "stream",
     "text": [
      "Jane 41\n",
      "Jose 49\n"
     ]
    }
   ],
   "source": [
    "class Pessoa:\n",
    "    def __init__(self, nome, idade, genero, altura):\n",
    "        #int metodo\n",
    "        self.nome = nome\n",
    "        self.idade = idade\n",
    "        self.genero = genero\n",
    "        self.altura = altura\n",
    "\n",
    "pessoa1 = Pessoa('Jane', 41, 'F', 1.80)\n",
    "pessoa2 = Pessoa('Jose', 49,'M', 1.95)\n",
    "\n",
    "print(pessoa1.nome, pessoa1.idade)\n",
    "print(pessoa2.nome, pessoa2.idade)\n",
    "\n",
    "\n"
   ]
  },
  {
   "cell_type": "code",
   "execution_count": null,
   "metadata": {},
   "outputs": [
    {
     "name": "stdout",
     "output_type": "stream",
     "text": [
      "seu ano de nascimento é 1981\n"
     ]
    }
   ],
   "source": [
    "class Pessoa:\n",
    "    ano_atual = 2022\n",
    "    def __init__(self, nome, idade):\n",
    "        self.nome = nome\n",
    "        self.idade = idade\n",
    "    \n",
    "    def ano_nascimento(self):\n",
    "        ano_nasc = self.ano_atual - self.idade\n",
    "        print(f'seu ano de nascimento é {ano_nasc}')\n",
    "\n",
    "pessoa1 = Pessoa('jane', 41)\n",
    "pessoa1.ano_nascimento()"
   ]
  }
 ],
 "metadata": {
  "interpreter": {
   "hash": "68255c82b399ebf7696a409cdddf5a450ca9dc393a3e7e16737daf329be37a0b"
  },
  "kernelspec": {
   "display_name": "Python 3.11.0 64-bit",
   "language": "python",
   "name": "python3"
  },
  "language_info": {
   "codemirror_mode": {
    "name": "ipython",
    "version": 3
   },
   "file_extension": ".py",
   "mimetype": "text/x-python",
   "name": "python",
   "nbconvert_exporter": "python",
   "pygments_lexer": "ipython3",
   "version": "3.11.0"
  },
  "orig_nbformat": 4
 },
 "nbformat": 4,
 "nbformat_minor": 2
}
